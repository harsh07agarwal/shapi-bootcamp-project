{
  "nbformat": 4,
  "nbformat_minor": 0,
  "metadata": {
    "colab": {
      "name": "Untitled1.ipynb",
      "provenance": []
    },
    "kernelspec": {
      "name": "python3",
      "display_name": "Python 3"
    },
    "language_info": {
      "name": "python"
    }
  },
  "cells": [
    {
      "cell_type": "code",
      "metadata": {
        "colab": {
          "base_uri": "https://localhost:8080/"
        },
        "id": "r66E6-7fRQ5H",
        "outputId": "6ded8649-57ff-4b26-d52c-d434e333ad67"
      },
      "source": [
        "import hashlib\n",
        "string=input(\"input the string:\")\n",
        "result=hashlib.md5(string.encode())\n",
        "print(\"the byte equivalent of md5 hash is: \",result.digest())\n",
        "print(\"the hexadecimal equivalent of md5 hash is: \",result.hexdigest())"
      ],
      "execution_count": 8,
      "outputs": [
        {
          "output_type": "stream",
          "text": [
            "input the string:harsh\n",
            "the byte equivalent of md5 hash is:  b'\\xd4\\xe3s\\x0e\\x8c\\xba!O\\x85\\xcd\\xda\\xe5\\xf93\\x1dt'\n",
            "the hexadecimal equivalent of md5 hash is:  d4e3730e8cba214f85cddae5f9331d74\n"
          ],
          "name": "stdout"
        }
      ]
    }
  ]
}