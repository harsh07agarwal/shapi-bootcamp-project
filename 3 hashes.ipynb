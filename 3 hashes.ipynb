{
  "nbformat": 4,
  "nbformat_minor": 0,
  "metadata": {
    "colab": {
      "name": "Untitled1.ipynb",
      "provenance": []
    },
    "kernelspec": {
      "name": "python3",
      "display_name": "Python 3"
    },
    "language_info": {
      "name": "python"
    }
  },
  "cells": [
    {
      "cell_type": "code",
      "metadata": {
        "colab": {
          "base_uri": "https://localhost:8080/"
        },
        "id": "r66E6-7fRQ5H",
        "outputId": "238fa07a-0337-4996-bd0e-bde9960857a3"
      },
      "source": [
        "import hashlib\n",
        "string=input(\"input the string:\")\n",
        "result=hashlib.sha1(string.encode())\n",
        "n=hashlib.sha512(string.encode())\n",
        "res=hashlib.blake2s(string.encode())\n",
        "print(\"the byte equivalent of sha1 hash is: \",result.digest(),)\n",
        "print(\"the hexadecimal equivalent of sha1 hash is: \",result.hexdigest(),\"\\n\")\n",
        "print(\"the byte equivalent of sha512 hash is: \",n.digest())\n",
        "print(\"the hexadecimal equivalent of sha512 hash is: \",n.hexdigest(),\"\\n\")\n",
        "print(\"the byte equivalent of blake2s hash is: \",res.digest())\n",
        "print(\"the hexadecimal equivalent of blake2s hash is: \",res.hexdigest())"
      ],
      "execution_count": 11,
      "outputs": [
        {
          "output_type": "stream",
          "text": [
            "input the string:harsh\n",
            "the byte equivalent of sha1 hash is:  b'%\\xa9\\xfcCa\\xf0\\xde\\x99\\xd6oV\\x9f#\\xdc\\x01T\\xe7\\x06N5'\n",
            "the hexadecimal equivalent of sha1 hash is:  25a9fc4361f0de99d66f569f23dc0154e7064e35 \n",
            "\n",
            "the byte equivalent of sha512 hash is:  b'\\xdb\\x18\\xcd\\xd5\\x19\\xae\\xd7\\xed\\xb7px\\x16\\x80\\x15\\xf7\\x0fJ\\x1bj\\xfa\\xb9\\x8e\\xc2\\xcf\\xc1\\xe8\\n\\xbe\\xf4\\x9de\\xd4iLB\\xcd\\xe6I\\x82ly\"\\xa8\\xcc\\xd9]\\x1e\\x8c^\\x15\\x95\\xf4)|\\xd0m\\x08\\xe3\\xc2?\\xf5\\xef\\x81q'\n",
            "the hexadecimal equivalent of sha512 hash is:  db18cdd519aed7edb77078168015f70f4a1b6afab98ec2cfc1e80abef49d65d4694c42cde649826c7922a8ccd95d1e8c5e1595f4297cd06d08e3c23ff5ef8171 \n",
            "\n",
            "the byte equivalent of blake2s hash is:  b'y\\xe0\\x1e\\xba \\xab*a\\x9c\\xde*\\xc3\\xde\\xa6B\\x07\\x15\\xe0\\x9a:\\xf7\\xec\\x01\\x05f\\xa1R\\xf2k?Q\\x96'\n",
            "the hexadecimal equivalent of blake2s hash is:  79e01eba20ab2a619cde2ac3dea6420715e09a3af7ec010566a152f26b3f5196\n"
          ],
          "name": "stdout"
        }
      ]
    }
  ]
}