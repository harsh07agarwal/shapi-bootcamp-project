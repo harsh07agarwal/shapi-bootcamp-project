{
  "nbformat": 4,
  "nbformat_minor": 0,
  "metadata": {
    "colab": {
      "name": "Untitled1.ipynb",
      "provenance": []
    },
    "kernelspec": {
      "name": "python3",
      "display_name": "Python 3"
    },
    "language_info": {
      "name": "python"
    }
  },
  "cells": [
    {
      "cell_type": "code",
      "metadata": {
        "colab": {
          "base_uri": "https://localhost:8080/"
        },
        "id": "r66E6-7fRQ5H",
        "outputId": "1383b41c-9261-4720-97fc-22603119afde"
      },
      "source": [
        "import hashlib\n",
        "import os\n",
        "\n",
        "string=input(\"input the string:\")\n",
        "string=string.encode()\n",
        "salt=os.urandom(32)\n",
        "print(\"the randomaly generated salt is:\",salt,\"\\n\")\n",
        "key=hashlib.pbkdf2_hmac(\"sha512\",string,salt,100000)\n",
        "print(\"the key after hashing and adding salt is: \",key)\n"
      ],
      "execution_count": 19,
      "outputs": [
        {
          "output_type": "stream",
          "text": [
            "input the string:harsh\n",
            "the randomaly generated salt is: b'\\x9d\\xc4\\x18x\\x11\\xb8^\\xdc\\xcaZ>\\xf3\\x7f\\xd8\\xca\\xf1,\\xe3\\x1bmNpD\\x19\\xcff\\xc1\\xae\\xdf``\\x13' \n",
            "\n",
            "the key after hashing and adding salt is:  b'\\x07V|*C7\\x8a\\xb1\\t\\x95(\\x9dD\\x97\\x9e\\xb6G\\xfaq\\x0e\\xbcf\\xd8\\xd2\\x98n\\x10\\x83\\x95CL\\x1f\\xdd9G\\xe7<\\xd5:bg\\xefi\\x89\\x01\\x8d\\x04v\\xf77\\xe5\\xb5e\\x906y\\x97 \\x08\\x02\\xac\\x95\\xa0G'\n"
          ],
          "name": "stdout"
        }
      ]
    }
  ]
}